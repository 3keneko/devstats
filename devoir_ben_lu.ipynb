{
 "cells": [
  {
   "cell_type": "code",
   "execution_count": 1,
   "id": "9288080d",
   "metadata": {},
   "outputs": [
    {
     "name": "stdout",
     "output_type": "stream",
     "text": [
      "hello\n"
     ]
    }
   ],
   "source": [
    "print(\"hello\")"
   ]
  },
  {
   "cell_type": "markdown",
   "id": "ce6c90aa",
   "metadata": {},
   "source": [
    "# Bonjour"
   ]
  },
  {
   "cell_type": "markdown",
   "id": "a37bad1b",
   "metadata": {},
   "source": [
    "$ \\frac{1}{2} = \\frac{2}{4} $ "
   ]
  },
  {
   "cell_type": "code",
   "execution_count": null,
   "id": "44faa674",
   "metadata": {},
   "outputs": [],
   "source": []
  }
 ],
 "metadata": {
  "kernelspec": {
   "display_name": "Python 3 (ipykernel)",
   "language": "python",
   "name": "python3"
  },
  "language_info": {
   "codemirror_mode": {
    "name": "ipython",
    "version": 3
   },
   "file_extension": ".py",
   "mimetype": "text/x-python",
   "name": "python",
   "nbconvert_exporter": "python",
   "pygments_lexer": "ipython3",
   "version": "3.10.12"
  }
 },
 "nbformat": 4,
 "nbformat_minor": 5
}
