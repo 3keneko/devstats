{
 "cells": [
  {
   "cell_type": "code",
   "execution_count": 1,
   "id": "9288080d",
   "metadata": {},
   "outputs": [
    {
     "name": "stdout",
     "output_type": "stream",
     "text": [
      "hello\n"
     ]
    }
   ],
   "source": [
    "print(\"hello\")"
   ]
  },
  {
   "cell_type": "markdown",
   "id": "57ee8cfa",
   "metadata": {},
   "source": [
    "## Exercice 1: ACP sur la matrice des distances"
   ]
  },
  {
   "cell_type": "markdown",
   "id": "731328be",
   "metadata": {},
   "source": [
    "### 1. Montrer que la matrice de variance-covariance empirique des $ X_i $ est $ S = X' DX $ \n",
    "__Preuve__:\n",
    "Soient $i, j \\in \\{ 1, \\dots , p \\}$, alors on remarque que\n",
    "\\begin{align}\n",
    "(S)_{ij} &= (X'DX)_{ij} \\\\ &= \\frac{1}{n} (X'X)_{ij} \\\\ &=  \\frac{1}{n} \\sum_{k=1}^n X_{ki} X_{kj} \\\\ &= \\frac{1}{n} \\sum_{k=0}^n \\left( X_{ki} - 0 \\right) \\left( X_{kj} - 0 \\right)\n",
    "\\end{align}\n",
    "On constate alors que $S$ correspond bien à la matrice de variance-covariance empirique des $X_i$ car ce sont des variables aléatoires centrées.\n"
   ]
  },
  {
   "cell_type": "markdown",
   "id": "d80e0651",
   "metadata": {},
   "source": [
    "### 2. Montrer que $\\forall i=1, \\dots ,n, d_i^2 = \\Vert X_i \\Vert^2_M + I_g $\n",
    "__Preuve__: Soient $ n \\in \\mathbb{N} $ et $ i\\in \\{ 1, \\dots, n \\} $ \n",
    "Calculons ici le membre de gauche de l'égalité afin de nous ramener au membre de droite \n",
    "\\begin{align}\n",
    "d^2_{i \\cdot} &= \\frac{1}{n} \\sum_{j=1}^n \\left( X_i - X_j \\right) ' M \\left( X_i - X_j \\right) \\\\ \n",
    "&= \\frac{1}{n} \\sum_{j=1}^n \\left( X_i ' M X_i  + X_j ' M X_j  - X_j ' M X_i - X_i ' M X_j \\right) \\\\\n",
    "&= \\frac{1}{n} \\sum_{j=1}^n \\left( \\Vert X_i \\Vert _M ^2 + \\Vert X_j \\Vert _M ^2 - X_j ' M X_i - X_i ' M X_j \\right) \\\\\n",
    "&= \\Vert X_i \\Vert _M ^2 + \\frac{1}{n} \\sum_{j=1}^n \\Vert X_j \\Vert _M ^2 -  X_i ' M \\frac{1}{n} \\underbrace{\\sum_{j=1}^n X_j}_0 - \\frac{1}{n} \\left( \\underbrace{\\sum_{j=1}^n X_j '}_0\\right) M X_i \\\\\n",
    "&= \\Vert X_i \\Vert _M ^2 + \\frac{1}{n} \\sum_{j=1}^n \\Vert X_j \\Vert _M ^2 \\\\\n",
    "&= \\Vert X_i \\Vert _M ^2 + I_g\n",
    "\\end{align}"
   ]
  },
  {
   "cell_type": "markdown",
   "id": "ce55d2f3",
   "metadata": {},
   "source": [
    "### 3. En déduire que $ d^2_{..} = 2I_g $ \n",
    "__Preuve__: Il s'agit encore une fois de calculer le terme de gauche\n",
    "\\begin{align}\n",
    "d^2_{..} = \\sum_{i=1}^n \\frac{1}{n} d^2_{i.}\n",
    "\\end{align}\n",
    "Par l'identité de l'exercice précédent, on a\n",
    "\\begin{align} \n",
    "\\sum_{i=1}^n \\frac{1}{n} d^2_{i.} &= \\frac{1}{n} \\sum_{i=1}^n \\left( \\Vert X_i \\Vert_M ^2 + I_g \\right) \\\\ \n",
    "&= I_g + \\frac{1}{n} \\sum_{i=1}^n \\Vert X_i \\Vert_M ^2  \\\\\n",
    "&= 2 I_g\n",
    "\\end{align}"
   ]
  },
  {
   "cell_type": "markdown",
   "id": "abfa9bef",
   "metadata": {},
   "source": [
    "### 4. Posons W la matrice des produits scalaires et montrer que $ w_{ij} = - \\frac{ d^2_{ij} - d_{i.}^2 - d_{.j}^2 + d^2_{..}}{2} $\n",
    "__Preuve__: Le résultat suit d'un simple calcul\n",
    "\\begin{align}\n",
    " - \\frac{ d^2_{ij} - d_{i.}^2 - d_{.j}^2 + d^2_{..}}{2} &= - \\frac{\\langle X_i - X_j, X_i - X_j \\rangle _M  - \\langle X_i , X_i \\rangle _M - I_g - \\langle X_j , X_j \\rangle _M - I_g + 2 I_g }{2} \\\\\n",
    " &= - \\frac{- \\langle X_i, X_j \\rangle _M - \\langle X_j, X_i \\rangle _M }{2} \\\\\n",
    " &= \\langle X_i, X_j \\rangle _M \\\\\n",
    " &= w_{ij}\n",
    "\\end{align}"
   ]
  },
  {
   "cell_type": "markdown",
   "id": "40b2a615",
   "metadata": {},
   "source": [
    "### 5. Exprimer W en fonction  de $ \\mathcal{D} $ \n"
   ]
  },
  {
   "cell_type": "code",
   "execution_count": null,
   "id": "e5c631d5",
   "metadata": {},
   "outputs": [],
   "source": []
  }
 ],
 "metadata": {
  "kernelspec": {
   "display_name": "Python 3 (ipykernel)",
   "language": "python",
   "name": "python3"
  },
  "language_info": {
   "codemirror_mode": {
    "name": "ipython",
    "version": 3
   },
   "file_extension": ".py",
   "mimetype": "text/x-python",
   "name": "python",
   "nbconvert_exporter": "python",
   "pygments_lexer": "ipython3",
   "version": "3.10.12"
  }
 },
 "nbformat": 4,
 "nbformat_minor": 5
}
