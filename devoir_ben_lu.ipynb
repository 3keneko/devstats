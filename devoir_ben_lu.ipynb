{
 "cells": [
  {
   "cell_type": "code",
   "execution_count": 1,
   "id": "9288080d",
   "metadata": {},
   "outputs": [
    {
     "name": "stdout",
     "output_type": "stream",
     "text": [
      "hello\n"
     ]
    }
   ],
   "source": [
    "print(\"hello\")"
   ]
  },
  {
   "cell_type": "markdown",
   "id": "57ee8cfa",
   "metadata": {},
   "source": [
    "## Exercice 1: ACP sur la matrice des distances"
   ]
  },
  {
   "cell_type": "markdown",
   "id": "731328be",
   "metadata": {},
   "source": [
    "### 1. Montrer que la matrice de variance-covariance empirique des $ X_i $ est $ S = X' DX $ \n",
    "__Preuve__:\n",
    "Soient $i, j \\in \\{ 1, \\dots , p \\}$, alors on remarque que\n",
    "\\begin{align}\n",
    "(S)_{ij} &= (X'DX)_{ij} \\\\ &= \\frac{1}{n} (X'X)_{ij} \\\\ &=  \\frac{1}{n} \\sum_{k=1}^n X_{ki} X_{kj} \\\\ &= \\frac{1}{n} \\sum_{k=0}^n \\left( X_{ki} - 0 \\right) \\left( X_{kj} - 0 \\right)\n",
    "\\end{align}\n",
    "On constate alors que $S$ correspond bien à la matrice de variance-covariance empirique des $X_i$ car ce sont des variables aléatoires centrées."
   ]
  },
  {
   "cell_type": "markdown",
   "id": "d80e0651",
   "metadata": {},
   "source": [
    "### 2. Montrer que $\\forall i=1, \\dots ,n, d_i^2 = \\Vert X_i \\Vert^2_M + I_g $\n",
    "__Preuve__: Évident"
   ]
  },
  {
   "cell_type": "markdown",
   "id": "ce55d2f3",
   "metadata": {},
   "source": [
    "### praise the Sun my friend\n"
   ]
  },
  {
   "cell_type": "markdown",
   "id": "abfa9bef",
   "metadata": {},
   "source": []
  }
 ],
 "metadata": {
  "kernelspec": {
   "display_name": "Python 3 (ipykernel)",
   "language": "python",
   "name": "python3"
  },
  "language_info": {
   "codemirror_mode": {
    "name": "ipython",
    "version": 3
   },
   "file_extension": ".py",
   "mimetype": "text/x-python",
   "name": "python",
   "nbconvert_exporter": "python",
   "pygments_lexer": "ipython3",
   "version": "3.11.5"
  }
 },
 "nbformat": 4,
 "nbformat_minor": 5
}
