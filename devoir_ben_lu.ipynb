{
 "cells": [
  {
   "cell_type": "code",
   "execution_count": 1,
   "id": "9288080d",
   "metadata": {},
   "outputs": [
    {
     "name": "stdout",
     "output_type": "stream",
     "text": [
      "hello\n"
     ]
    }
   ],
   "source": [
    "print(\"hello\")"
   ]
  },
  {
   "cell_type": "markdown",
   "id": "57ee8cfa",
   "metadata": {},
   "source": [
    "## Exercice 1: ACP sur la matrice des distances"
   ]
  },
  {
   "cell_type": "markdown",
   "id": "731328be",
   "metadata": {},
   "source": [
    "### 1. Montrer que la matrice de variance-covariance empirique des $ X_i $ est $ S = X' DX $ \n",
    "__Preuve__:\n",
    "Soient $i, j \\in \\{ 1, \\dots , p \\}$, alors on remarque que\n",
    "\\begin{align}\n",
    "(S)_{ij} &= (X'DX)_{ij} \\\\ &= \\frac{1}{n} (X'X)_{ij} \\\\ &=  \\frac{1}{n} \\sum_{k=1}^n X_{ki} X_{kj} \\\\ &= \\frac{1}{n} \\sum_{k=0}^n \\left( X_{ki} - 0 \\right) \\left( X_{kj} - 0 \\right)\n",
    "\\end{align}\n",
    "On constate alors que $S$ correspond bien à la matrice de variance-covariance empirique des $X_i$ car ce sont des variables aléatoires centrées.\n"
   ]
  },
  {
   "cell_type": "markdown",
   "id": "d80e0651",
   "metadata": {},
   "source": [
    "### 2. Montrer que $\\forall i=1, \\dots ,n, d_i^2 = \\Vert X_i \\Vert^2_M + I_g $\n",
    "__Preuve__: Soient $ n \\in \\mathbb{N} $ et $ i\\in \\{ 1, \\dots, n \\} $ \n",
    "Calculons ici le membre de gauche de l'égalité afin de nous ramener au membre de droite \n",
    "\\begin{align}\n",
    "d^2_{i \\cdot} &= \\frac{1}{n} \\sum_{j=1}^n \\left( X_i - X_j \\right) ' M \\left( X_i - X_j \\right) \\\\ \n",
    "&= \\frac{1}{n} \\sum_{j=1}^n \\left( X_i ' M X_i  + X_j ' M X_j  - X_j ' M X_i - X_i ' M X_j \\right) \\\\\n",
    "&= \\frac{1}{n} \\sum_{j=1}^n \\left( \\Vert X_i \\Vert _M ^2 + \\Vert X_j \\Vert _M ^2 - X_j ' M X_i - X_i ' M X_j \\right) \\\\\n",
    "&= \\Vert X_i \\Vert _M ^2 + \\frac{1}{n} \\sum_{j=1}^n \\Vert X_j \\Vert _M ^2 -  X_i ' M \\frac{1}{n} \\underbrace{\\sum_{j=1}^n X_j}_0 - \\frac{1}{n} \\left( \\underbrace{\\sum_{j=1}^n X_j '}_0\\right) M X_i \\\\\n",
    "&= \\Vert X_i \\Vert _M ^2 + \\frac{1}{n} \\sum_{j=1}^n \\Vert X_j \\Vert _M ^2 \\\\\n",
    "&= \\Vert X_i \\Vert _M ^2 + I_g\n",
    "\\end{align}"
   ]
  },
  {
   "cell_type": "markdown",
   "id": "ce55d2f3",
   "metadata": {},
   "source": [
    "### 3. En déduire que $ d^2_{..} = 2I_g $ \n",
    "__Preuve__: Il s'agit encore une fois de calculer le terme de gauche\n",
    "\\begin{align}\n",
    "d^2_{..} = \\sum_{i=1}^n \\frac{1}{n} d^2_{i.}\n",
    "\\end{align}\n",
    "Par l'identité de l'exercice précédent, on a\n",
    "\\begin{align} \n",
    "\\sum_{i=1}^n \\frac{1}{n} d^2_{i.} &= \\frac{1}{n} \\sum_{i=1}^n \\left( \\Vert X_i \\Vert_M ^2 + I_g \\right) \\\\ \n",
    "&= I_g + \\frac{1}{n} \\sum_{i=1}^n \\Vert X_i \\Vert_M ^2  \\\\\n",
    "&= 2 I_g\n",
    "\\end{align}"
   ]
  },
  {
   "cell_type": "markdown",
   "id": "abfa9bef",
   "metadata": {},
   "source": [
    "### 4. Posons W la matrice des produits scalaires et montrer que $ w_{ij} = - \\frac{ d^2_{ij} - d_{i.}^2 - d_{.j}^2 + d^2_{..}}{2} $\n",
    "__Preuve__: Le résultat suit d'un simple calcul\n",
    "\\begin{align}\n",
    " - \\frac{ d^2_{ij} - d_{i.}^2 - d_{.j}^2 + d^2_{..}}{2} &= - \\frac{\\langle X_i - X_j, X_i - X_j \\rangle _M  - \\langle X_i , X_i \\rangle _M - I_g - \\langle X_j , X_j \\rangle _M - I_g + 2 I_g }{2} \\\\\n",
    " &= - \\frac{- \\langle X_i, X_j \\rangle _M - \\langle X_j, X_i \\rangle _M }{2} \\\\\n",
    " &= \\langle X_i, X_j \\rangle _M \\\\\n",
    " &= w_{ij}\n",
    "\\end{align}"
   ]
  },
  {
   "cell_type": "markdown",
   "id": "271e14c1",
   "metadata": {},
   "source": [
    "### 5. Exprimer W en fonction  de $ \\mathcal{D} $ \n",
    "__Preuve__: Soit $ T \\in \\mathbb{R}^{n \\times n} $ la matrice telle que \n",
    "\\begin{equation}\n",
    "\\forall i, j \\in \\{1, ..., n \\}, \\quad  \\left( T \\right)_{ij} = \\frac{1}{n}\n",
    "\\end{equation}\n",
    "Alors, on a directement\n",
    "\\begin{equation}\n",
    "W = -\\frac{1}{2} \\left( \\mathcal{D} - T\\mathcal{D} - \\mathcal{D}T + T\\mathcal{D}T  \\right)\n",
    "\\end{equation}"
   ]
  },
  {
   "cell_type": "markdown",
   "id": "4a892951",
   "metadata": {},
   "source": [
    "### 6. Supposons dans la suite que l’ACP du nuage de X donne p axes principaux normés $(uk)_{k=1,...,p}$ de valeurs propres correspondants λk. Notons vk les composantes principales associées. Montrer que XSuk = λkvk. Que peut-on en déduire ?\n",
    "__Preuve__: D'abord comme $ u_k $ est un axe principal, $u_k $ est en particulier un vecteur propre de S, par suite $ S u_k $ = $ \\lambda_k u_k $. \n",
    "\n",
    "Enfin, par définition de composante principale, on a\n",
    "\\begin{equation} X \\lambda_k u_k = \\lambda_k X u_k = \\lambda_k v_k \\end{equation}\n",
    "On en tire finalement que $ XSu_k = \\lambda_k v_k $"
   ]
  },
  {
   "cell_type": "markdown",
   "id": "cb84d402",
   "metadata": {},
   "source": [
    "### 7. Montrer que, toujours si M = Ip, vk est également vecteur propre de WD\n",
    "__Preuve__: Remarquons que $ v_k = X u_k $ où $ u_k $  représente le k-ième axe principal, donc il suffit de montrer que \n",
    "\\begin{equation}\n",
    "WDX u_k = \\lambda_k v_k \n",
    "\\end{equation}\n",
    "Remarquons que comme $ M = I_p $, on a $ W_{ij} = X'_i I_p X_j  = X_i' X_j $, et donc\n",
    "$ W = X X' $.\n",
    "\n",
    "Ainsi, \n",
    "\\begin{align} \n",
    "WDX u_k &= X \\underbrace{X' D X}_{S} u_k \\\\\n",
    "&= XS u_k \\\\ \n",
    "&= \\lambda_k v_k\n",
    "\\end{align}\n",
    "la dernière égalité s'obtient du résultat de la question précédente.\n",
    "\n",
    "Ainsi, en substituant $ X u_k $ par $ v_k $, on obtient $ WD v_k = \\lambda_k v_k $ "
   ]
  },
  {
   "cell_type": "markdown",
   "id": "bff2dd1b",
   "metadata": {},
   "source": [
    "### 8. Soit le vecteur $f_k \\in \\mathbb{R}^n$ dont la composante numéro i est $f_ik = \\sqrt{p_i}v_k $ . En déduire que la matrice WD admet pour vecteur propre $f_k$ avec valeur propre associé à λk.\n",
    "__Preuve__: On remarque que par définition de $ p_i $, pour tout $k \\in \\{1, ..., p \\}$ on  a l'égalité $ f_k = \\sqrt{\\frac{1}{n}}v_k $, comme $ v_k $ est une valeur propre de **WD** et comme $ f_k $ est un multiple scalaire de $v_k$, on conclut que $ f_k $ est également un vecteur propre de **WD**, appartenant au même sous-espace propre que $ v_k $ et est donc de valeur propre $ \\lambda _k $ "
   ]
  },
  {
   "cell_type": "markdown",
   "id": "553c3263",
   "metadata": {},
   "source": [
    "### 9.Montrer que le vecteur (√pi)i=1,...,n est vecteur propre de WD associé à la valeur propre 0.\n",
    "__Preuve__: Soit $ v = \\begin{pmatrix} \\sqrt{p_1} \\\\ \\sqrt{p_2} \\\\ \\vdots \\\\ \\sqrt{p_n} \\end{pmatrix} $, remarqons d'abord que $ Dv = \\begin{pmatrix} \\sqrt{p_1^3} \\\\ \\sqrt{p_2^3} \\\\ \\vdots \\\\ \\sqrt{p_n^3} \\end{pmatrix} $.\n",
    "\n",
    "Ensuite, pour $ i \\in \\{1, ..., n\\}$, on a $ \\left( W \\begin{pmatrix} \\sqrt{p_1^3} \\\\ \\sqrt{p_2^3} \\\\ \\vdots \\\\ \\sqrt{p_n^3} \\end{pmatrix} \\right)_i = \\sum_{j=0}^n \\sqrt{p_j^3} W_{ij} $\n",
    "\n",
    "En utilisant la relation démontrée à l'exercice 4 pour remplacer $ W_{ij} $, on obtient\n",
    "\\begin{align}\n",
    "\\sum_{j=0}^n \\sqrt{p_j^3} W_{ij} &=  \\sum_{j=0}^n \\left(-\\frac{ d^2_{ij} - d_{i.}^2 - d_{.j}^2 + d^2_{..}}{2}\\right) \\sqrt{p_j^3} \\\\\n",
    "&= -\\frac{1}{2} \\left(\\sum_{j=0}^n d^2_{ij} \\sqrt{p_j^3} - \\sum_{j=0}^n d^2_{i.} \\sqrt{p_j^3} - \\sum_{j=0}^n d^2_{.j} \\sqrt{p_j^3} + \\sum_{j=0}^n d^2_{..} \\sqrt{p_j^3} \\right) \\\\\n",
    "&= -\\frac{1}{2} \\left( \\sqrt{p_j} d^2_{i.} - n \\sqrt{p_j^3} d^2_{i.} - \\sqrt{p_j}d^2_{..} + n \\sqrt{p_j^3} d^2_{..} \\right)\n",
    "\\end{align}\n",
    "Or, pour tout $ j \\in \\{1, ..., n\\}, \\quad p_j = \\frac{1}{n} $ donc $ n \\sqrt{p_i^3} = \\sqrt{p_j} $ \n",
    "\n",
    "Utiliser cette dernière relation nous donne\n",
    "\\begin{align} \n",
    " -\\frac{1}{2} \\left( \\underbrace{\\sqrt{p_j} d^2_{i.} - n \\sqrt{p_j^3} d^2_{i.}}_0 - \\underbrace{ \\sqrt{p_j}d^2_{..} + n \\sqrt{p_j^3} d^2_{..} }_0 \\right) &= 0\n",
    "\\end{align}\n",
    "\n",
    "Ainsi, on a bien que le vecteur $ (\\sqrt{p_i})_{i=1...n}) $ est bien un vecteur propre de **WD** dont la valeur propre associée est 0."
   ]
  },
  {
   "cell_type": "code",
   "execution_count": null,
   "id": "12d23cb8",
   "metadata": {},
   "outputs": [],
   "source": []
  },
  {
   "cell_type": "code",
   "execution_count": null,
   "id": "ed06d035",
   "metadata": {},
   "outputs": [],
   "source": []
  }
 ],
 "metadata": {
  "kernelspec": {
   "display_name": "Python 3 (ipykernel)",
   "language": "python",
   "name": "python3"
  },
  "language_info": {
   "codemirror_mode": {
    "name": "ipython",
    "version": 3
   },
   "file_extension": ".py",
   "mimetype": "text/x-python",
   "name": "python",
   "nbconvert_exporter": "python",
   "pygments_lexer": "ipython3",
   "version": "3.10.12"
  }
 },
 "nbformat": 4,
 "nbformat_minor": 5
}
